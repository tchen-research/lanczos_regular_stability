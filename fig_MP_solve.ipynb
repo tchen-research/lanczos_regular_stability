{
 "cells": [
  {
   "cell_type": "code",
   "execution_count": 1,
   "metadata": {},
   "outputs": [],
   "source": [
    "import numpy as np\n",
    "import scipy as sp\n",
    "from scipy import optimize,special,integrate\n",
    "import matplotlib.pyplot as plt\n",
    "from matplotlib.lines import Line2D\n",
    "\n",
    "import copy\n",
    "\n",
    "from lanczos_bin import *\n",
    "\n",
    "from IPython.display import clear_output\n",
    "%load_ext autoreload\n",
    "%autoreload 2"
   ]
  },
  {
   "cell_type": "code",
   "execution_count": 2,
   "metadata": {},
   "outputs": [],
   "source": [
    "plt.rc('text', usetex=True)\n",
    "plt.rc('font', family='serif')"
   ]
  },
  {
   "cell_type": "code",
   "execution_count": 3,
   "metadata": {},
   "outputs": [],
   "source": [
    "Ns = [200,800]\n",
    "K = 23\n",
    "\n",
    "n_repeat = 1000"
   ]
  },
  {
   "cell_type": "code",
   "execution_count": 4,
   "metadata": {},
   "outputs": [
    {
     "name": "stdout",
     "output_type": "stream",
     "text": [
      "1 1 375\n"
     ]
    }
   ],
   "source": [
    "err = np.zeros((2,len(Ns),n_repeat,K))\n",
    "\n",
    "np.random.seed(0)\n",
    "for dist in range(2):\n",
    "    for i,N in enumerate(Ns):\n",
    "        for j in range(n_repeat):\n",
    "            print(dist,i,j)\n",
    "            clear_output(wait=True)\n",
    "            v = np.ones(N)\n",
    "            v /= np.linalg.norm(v)\n",
    "\n",
    "            d = .2\n",
    "            M = int(N/d)\n",
    "            if dist ==0:\n",
    "                X = np.random.randn(N,M)\n",
    "            else:\n",
    "                X = np.random.rand(N,M)*2-1\n",
    "            A = X@X.T/M\n",
    "\n",
    "            x_true = np.linalg.solve(A,v)\n",
    "\n",
    "            Q,(αs,βs) = lanczos_reorth(A.astype(np.single),v,K,0)\n",
    "\n",
    "            T = np.diag(αs) + np.diag(βs[:-1],1) + np.diag(βs[:-1],-1)\n",
    "            e0 = np.zeros(K)\n",
    "            e0[0] = 1\n",
    "\n",
    "            for k in range(K):\n",
    "                \n",
    "                e = x_true - Q[:,:k].astype(np.double)@np.linalg.solve(T[:k,:k].astype(np.double),e0[:k].astype(np.double))\n",
    "                err[dist,i,j,k] = np.sqrt(e.T@A@e)"
   ]
  },
  {
   "cell_type": "code",
   "execution_count": 5,
   "metadata": {},
   "outputs": [],
   "source": [
    "np.savez_compressed('MP_err',err,allow_pickle=True)"
   ]
  },
  {
   "cell_type": "code",
   "execution_count": 6,
   "metadata": {},
   "outputs": [],
   "source": [
    "npz = np.load('MP_err.npz',allow_pickle=True)\n",
    "err = npz.f.arr_0"
   ]
  },
  {
   "cell_type": "code",
   "execution_count": 7,
   "metadata": {},
   "outputs": [
    {
     "data": {
      "image/png": "[encoded data removed]",
      "text/plain": [
       "<Figure size 576x288 with 4 Axes>"
      ]
     },
     "metadata": {
      "needs_background": "light"
     },
     "output_type": "display_data"
    }
   ],
   "source": [
    "fig,axs = plt.subplots(2,len(Ns),figsize=(8,4),sharex=True,sharey=True)\n",
    "\n",
    "fig.subplots_adjust(wspace=.1,hspace=.1)\n",
    "\n",
    "σ = .05\n",
    "for dist in range(2):\n",
    "    for i,N in enumerate(Ns):\n",
    "\n",
    "        if dist==0:\n",
    "            dist_name='Gaussian'\n",
    "        else:\n",
    "            dist_name='Rademacher'\n",
    "        axs[dist,i].text(.05,.05,f'{dist_name}\\n$N = {N}$',ha='left', va='bottom', transform=axs[dist,i].transAxes)\n",
    "        axs[dist,i].plot(d**(np.arange(K)/2)/np.sqrt(1-d**2),color=c3,ls='--')\n",
    "        violin_parts = axs[dist,i].violinplot(err[dist,i]/err[dist,i,:,0,None],positions=np.arange(K),quantiles=[[1-σ,σ]]*K,showmeans=True,showextrema=False)\n",
    "\n",
    "        for partname in ['cquantiles','cmeans']:\n",
    "            vp = violin_parts[partname]\n",
    "            vp.set_edgecolor(c1)\n",
    "            vp.set_linewidth(1)\n",
    "        vp.set_linewidth(2)\n",
    "\n",
    "        for vp in violin_parts['bodies']:\n",
    "            vp.set_facecolor(c1)\n",
    "            vp.set_edgecolor(c1)\n",
    "\n",
    "\n",
    "        axs[1,i].set_xlabel('iteration $n$')\n",
    "    \n",
    "axs[0,0].set_yscale('log')\n",
    "axs[0,0].set_yticks([1e-8,1e-6,1e-4,1e-2,1])\n",
    "\n",
    "axs[0,0].set_xticks(range(0,24,2));\n",
    "\n",
    "plt.savefig('imgs/mp_system.pdf')"
   ]
  }
 ],
 "metadata": {
  "kernelspec": {
   "display_name": "Python 3",
   "language": "python",
   "name": "python3"
  },
  "language_info": {
   "codemirror_mode": {
    "name": "ipython",
    "version": 3
   },
   "file_extension": ".py",
   "mimetype": "text/x-python",
   "name": "python",
   "nbconvert_exporter": "python",
   "pygments_lexer": "ipython3",
   "version": "3.8.3"
  }
 },
 "nbformat": 4,
 "nbformat_minor": 5
}
