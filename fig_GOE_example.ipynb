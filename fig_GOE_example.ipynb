{
 "cells": [
  {
   "cell_type": "code",
   "execution_count": 1,
   "metadata": {},
   "outputs": [],
   "source": [
    "import numpy as np\n",
    "import scipy as sp\n",
    "from scipy import optimize,special,integrate\n",
    "import matplotlib.pyplot as plt\n",
    "from matplotlib.lines import Line2D\n",
    "\n",
    "import copy\n",
    "\n",
    "from lanczos_bin import *\n",
    "\n",
    "from IPython.display import clear_output\n",
    "%load_ext autoreload\n",
    "%autoreload 2"
   ]
  },
  {
   "cell_type": "code",
   "execution_count": 2,
   "metadata": {},
   "outputs": [],
   "source": [
    "plt.rc('text', usetex=True)\n",
    "plt.rc('font', family='serif')"
   ]
  },
  {
   "cell_type": "code",
   "execution_count": 3,
   "metadata": {},
   "outputs": [],
   "source": [
    "N = 2000\n",
    "K_big = 101\n",
    "K = 20\n",
    "\n",
    "np.random.seed(0)\n",
    "v = np.random.randn(N)\n",
    "v /= np.linalg.norm(v)\n",
    "\n",
    "A_full = GOE_tridiag_model(N,N)\n",
    "Λ = sp.linalg.eigvalsh_tridiagonal(A_full.diagonal(),A_full.diagonal(1))\n",
    "A = sp.sparse.spdiags(Λ,0,N,N)\n",
    "\n",
    "Q,(αs,βs) = lanczos_reorth(A.astype(np.single),v,K_big,0)\n",
    "Q,(αs_ro,βs_ro) = lanczos_reorth(A.astype(np.longdouble),v.astype(np.longdouble),K_big,K_big)"
   ]
  },
  {
   "cell_type": "code",
   "execution_count": 4,
   "metadata": {},
   "outputs": [
    {
     "data": {
      "image/png": "[encoded data removed]",
      "text/plain": [
       "<Figure size 576x144 with 1 Axes>"
      ]
     },
     "metadata": {
      "needs_background": "light"
     },
     "output_type": "display_data"
    }
   ],
   "source": [
    "fig,ax = plt.subplots(1,1,figsize=(8,2))\n",
    "\n",
    "xx = np.linspace(-1,1,500)\n",
    "ax.step(xx,.5+xx*np.sqrt(1-xx**2)/np.pi + np.arcsin(xx)/np.pi,where='post',lw=1,ls=':',color='k')\n",
    "\n",
    "ax.step(Λ,np.cumsum(v**2),where='post',lw=lw,color=c1,label='VESD')\n",
    "\n",
    "plt.savefig('imgs/motivating_VESD.pdf')"
   ]
  },
  {
   "cell_type": "code",
   "execution_count": 5,
   "metadata": {},
   "outputs": [
    {
     "data": {
      "text/plain": [
       "(0.03999854, 0.03254956)"
      ]
     },
     "execution_count": 5,
     "metadata": {},
     "output_type": "execute_result"
    }
   ],
   "source": [
    "np.max(np.abs(αs)),np.max(np.abs(βs[:K_big-1]-.5))"
   ]
  },
  {
   "cell_type": "code",
   "execution_count": 6,
   "metadata": {},
   "outputs": [
    {
     "data": {
      "image/png": "[encoded data removed]",
      "text/plain": [
       "<Figure size 288x172.8 with 1 Axes>"
      ]
     },
     "metadata": {
      "needs_background": "light"
     },
     "output_type": "display_data"
    }
   ],
   "source": [
    "fig,ax = plt.subplots(1,1,figsize=(4,2.4))\n",
    "plt.subplots_adjust(bottom=0.18)\n",
    "\n",
    "ax.axhline(0.5,lw=1,ls=':',color='k')\n",
    "ax.axhline(0,lw=1,ls=':',color='k')\n",
    "\n",
    "ax.plot(αs_ro,ls='None',marker='+',ms=6,color='k',label=r'$\\alpha_i$')\n",
    "ax.plot(αs,ls='None',marker='o',ms=2,color=c1,label=r'$\\overline{\\alpha}_i$')\n",
    "\n",
    "ax.plot(βs_ro[:K_big-1],ls='None',marker='+',ms=6,color='k',label=r'$\\beta_i$')\n",
    "ax.plot(βs[:K_big-1],ls='None',marker='s',ms=2,color=c3,label=r'$\\overline{\\beta}_i$')\n",
    "\n",
    "\n",
    "\n",
    "ax.set_ylim(-.1,.6)\n",
    "ax.set_yticks([0,.1,.2,.3,.4,.5])\n",
    "#ax.set_yticklabels([0,'.1','','','',.5])\n",
    "ax.set_xlabel('index $n$')\n",
    "\n",
    "plt.savefig('imgs/motivating_coeff.pdf')"
   ]
  },
  {
   "cell_type": "code",
   "execution_count": 7,
   "metadata": {},
   "outputs": [
    {
     "data": {
      "image/png": "[encoded data removed]",
      "text/plain": [
       "<Figure size 288x172.8 with 1 Axes>"
      ]
     },
     "metadata": {
      "needs_background": "light"
     },
     "output_type": "display_data"
    }
   ],
   "source": [
    "fig,ax = plt.subplots(1,1,figsize=(4,2.4))\n",
    "plt.subplots_adjust(bottom=0.18)\n",
    "\n",
    "ax.plot(np.abs(αs),ls='None',marker='o',fillstyle='none',ms=2,color=c2,label=r'$|\\alpha_i - \\overline{\\alpha}_i|$')\n",
    "ax.plot(np.abs(βs-1/2)[:K_big-1],ls='None',marker='s',fillstyle='none',ms=2,color=c5,label=r'$|\\beta_i - \\overline{\\beta}_i|$')\n",
    "\n",
    "ax.plot(np.abs(αs-αs_ro),ls='None',marker='o',ms=2,color=c1,label=r'$|\\alpha_i - \\overline{\\alpha}_i|$')\n",
    "ax.plot(np.abs(βs-βs_ro)[:K_big-1],ls='None',marker='s',ms=2,color=c3,label=r'$|\\beta_i - \\overline{\\beta}_i|$')\n",
    "\n",
    "ax.set_yscale('log')\n",
    "ax.set_ylim([1e-10,1e0])\n",
    "ax.set_yticks([1e-9,1e-7,1e-5,1e-3,1e-1])\n",
    "ax.set_xlabel('index $n$')\n",
    "\n",
    "plt.savefig('imgs/motivating_coeff_fe.pdf')"
   ]
  },
  {
   "cell_type": "code",
   "execution_count": 8,
   "metadata": {},
   "outputs": [],
   "source": [
    "Q_full,(αs_full,βs_full) = lanczos_reorth(A.astype(np.longdouble),v,2*K,2*K)\n",
    "\n",
    "Nx = 2000\n",
    "X = np.linspace(-1,1,Nx)\n",
    "tx = np.zeros((Nx,2*K),dtype=np.longdouble)\n",
    "tx[:,0] = np.ones(Nx)\n",
    "tx[:,1] = (X*tx[:,0]-αs_full[0]*tx[:,0])\n",
    "tx[:,1] /= βs_full[0]\n",
    "\n",
    "\n",
    "t = np.zeros((N,2*K),dtype=np.longdouble)\n",
    "t[:,0] = np.ones(N)\n",
    "t[:,1] = (A@t[:,0]-αs_full[0]*t[:,0])\n",
    "t[:,1] /= βs_full[0]\n",
    "\n",
    "T = np.diag(αs[:K]) + np.diag(βs[:K-1],-1) + np.diag(βs[:K-1],1)\n",
    "e0 = np.zeros(K)\n",
    "e0[0] = 1\n",
    "\n",
    "t_fp = np.zeros((K,2*K),dtype=np.longdouble)\n",
    "t_fp[:,0] = e0\n",
    "t_fp[:,1] = (T@t_fp[:,0]-αs_full[0]*t_fp[:,0])\n",
    "t_fp[:,1] /= βs_full[0]\n",
    "\n",
    "T_ro = np.diag(αs_ro[:K]) + np.diag(βs_ro[:K-1],-1) + np.diag(βs_ro[:K-1],1)\n",
    "e0 = np.zeros(K)\n",
    "e0[0] = 1\n",
    "\n",
    "t_ro = np.zeros((K,2*K),dtype=np.longdouble)\n",
    "t_ro[:,0] = e0\n",
    "t_ro[:,1] = (T_ro@t_ro[:,0]-αs_full[0]*t_ro[:,0])\n",
    "t_ro[:,1] /= βs_full[0]\n",
    "\n",
    "for i in range(2,2*K):\n",
    "    tx[:,i] = (X*tx[:,i-1]-αs_full[i-1]*tx[:,i-1])-βs_full[i-2]*tx[:,i-2]\n",
    "    tx[:,i] /= βs_full[i-1]\n",
    "    \n",
    "    t[:,i] = (A@t[:,i-1]-αs_full[i-1]*t[:,i-1])-βs_full[i-2]*t[:,i-2]\n",
    "    t[:,i] /= βs_full[i-1]\n",
    "    \n",
    "    t_fp[:,i] = (T@t_fp[:,i-1]-αs_full[i-1]*t_fp[:,i-1])-βs_full[i-2]*t_fp[:,i-2]\n",
    "    t_fp[:,i] /= βs_full[i-1]\n",
    "    \n",
    "    t_ro[:,i] = (T_ro@t_ro[:,i-1]-αs_full[i-1]*t_ro[:,i-1])-βs_full[i-2]*t_ro[:,i-2]\n",
    "    t_ro[:,i] /= βs_full[i-1]"
   ]
  },
  {
   "cell_type": "code",
   "execution_count": 9,
   "metadata": {},
   "outputs": [
    {
     "data": {
      "text/plain": [
       "274.3302510452013775"
      ]
     },
     "execution_count": 9,
     "metadata": {},
     "output_type": "execute_result"
    }
   ],
   "source": [
    "np.max(tx)"
   ]
  },
  {
   "cell_type": "code",
   "execution_count": 10,
   "metadata": {},
   "outputs": [],
   "source": [
    "m_fp = e0.T@t_fp\n",
    "m_ro = e0.T@t_ro\n",
    "\n",
    "#m_fp[K:] = 0\n",
    "#m_ro[K:] = 0\n",
    "\n",
    "v_new = v*(1+t@(m_fp-m_ro))**.5"
   ]
  },
  {
   "cell_type": "code",
   "execution_count": 11,
   "metadata": {},
   "outputs": [
    {
     "data": {
      "text/plain": [
       "7.3060051622050701715e-07"
      ]
     },
     "execution_count": 11,
     "metadata": {},
     "output_type": "execute_result"
    }
   ],
   "source": [
    "np.linalg.norm(v-v_new)"
   ]
  },
  {
   "cell_type": "code",
   "execution_count": 12,
   "metadata": {},
   "outputs": [],
   "source": [
    "t_new = np.zeros((N,2*K),dtype=np.longdouble)\n",
    "t_new[:,0] = v_new\n",
    "t_new[:,1] = (A@t_new[:,0]-αs_full[0]*t_new[:,0])\n",
    "t_new[:,1] /= βs_full[0]\n",
    "\n",
    "for i in range(2,2*K):\n",
    "    t_new[:,i] = (A@t_new[:,i-1]-αs_full[i-1]*t_new[:,i-1])-βs_full[i-2]*t_new[:,i-2]\n",
    "    t_new[:,i] /= βs_full[i-1]\n"
   ]
  },
  {
   "cell_type": "code",
   "execution_count": 13,
   "metadata": {},
   "outputs": [],
   "source": [
    "m_new = np.ones(N).T@t_new"
   ]
  },
  {
   "cell_type": "code",
   "execution_count": 14,
   "metadata": {},
   "outputs": [],
   "source": [
    "Q,(αs_new,βs_new) = lanczos_reorth(A.astype(np.longdouble),v_new.astype(np.longdouble),K,K)"
   ]
  },
  {
   "cell_type": "code",
   "execution_count": 15,
   "metadata": {},
   "outputs": [
    {
     "data": {
      "image/png": "[encoded data removed]",
      "text/plain": [
       "<Figure size 576x144 with 1 Axes>"
      ]
     },
     "metadata": {
      "needs_background": "light"
     },
     "output_type": "display_data"
    }
   ],
   "source": [
    "fig,ax = plt.subplots(1,1,figsize=(8,2))\n",
    "\n",
    "ax.plot(X,tx@(m_fp-m_ro),lw=lw,color=c1,label='$h(\\lambda)$')\n",
    "ax.plot(Λ,t@(m_fp-m_ro),ls='None',marker='+',ms=4,markeredgewidth=.5,color=c1)\n",
    "\n",
    "ax.set_yscale('symlog',linthreshy=1e-6)\n",
    "\n",
    "ax.set_yticks([-1e-3,-1e-5,0,1e-5,1e-3])\n",
    "\n",
    "\n",
    "plt.savefig('imgs/GOE_backwards_h.pdf')"
   ]
  },
  {
   "cell_type": "code",
   "execution_count": 16,
   "metadata": {},
   "outputs": [
    {
     "data": {
      "image/png": "[encoded data removed]",
      "text/plain": [
       "<Figure size 288x172.8 with 1 Axes>"
      ]
     },
     "metadata": {
      "needs_background": "light"
     },
     "output_type": "display_data"
    }
   ],
   "source": [
    "fig,ax = plt.subplots(1,1,figsize=(4,2.4))\n",
    "plt.subplots_adjust(bottom=0.18)\n",
    "\n",
    "ax.plot(np.abs(m_ro-m_fp),ls='None',marker='o',ms=2,color=c1,label=r'$|m(i)-\\overline{m}(i)|$')\n",
    "\n",
    "ax.set_xlabel('index $n$')\n",
    "ax.set_yscale('log')\n",
    "ax.set_ylim([3e-9,3e-6])\n",
    "ax.set_yticks([1e-8,1e-7,1e-6])\n",
    "\n",
    "plt.savefig('imgs/GOE_backwards_moments.pdf')"
   ]
  },
  {
   "cell_type": "code",
   "execution_count": 17,
   "metadata": {},
   "outputs": [
    {
     "data": {
      "text/plain": [
       "array([-3.26107685e-19, -2.55803950e-19,  1.08420217e-19,  3.12131641e-19,\n",
       "       -3.79470760e-19, -9.65617560e-20,  3.11708125e-19, -1.84653183e-19,\n",
       "        5.14996032e-19, -8.36868552e-19,  6.35274710e-19, -4.23516474e-20,\n",
       "       -1.30443074e-19,  4.91279109e-20, -2.33781093e-19, -4.23516474e-20,\n",
       "        3.93023288e-19, -6.70850094e-19,  4.45539330e-19, -2.53262851e-19],\n",
       "      dtype=float128)"
      ]
     },
     "execution_count": 17,
     "metadata": {},
     "output_type": "execute_result"
    }
   ],
   "source": [
    "αs[:K]-αs_new"
   ]
  },
  {
   "cell_type": "code",
   "execution_count": 18,
   "metadata": {},
   "outputs": [
    {
     "data": {
      "image/png": "[encoded data removed]",
      "text/plain": [
       "<Figure size 288x172.8 with 1 Axes>"
      ]
     },
     "metadata": {
      "needs_background": "light"
     },
     "output_type": "display_data"
    }
   ],
   "source": [
    "fig,ax = plt.subplots(1,1,figsize=(4,2.4))\n",
    "plt.subplots_adjust(bottom=0.18)\n",
    "\n",
    "ax.plot(np.abs(αs-αs_ro)[:K],ls='None',marker='o',ms=2,color=c1,label=r'$|\\alpha_i - \\overline{\\alpha}_i|$')\n",
    "ax.plot(np.abs(βs-βs_ro)[:K],ls='None',marker='s',ms=2,color=c3,label=r'$|\\beta_i - \\overline{\\beta}_i|$')\n",
    "\n",
    "\n",
    "ax.plot(np.abs(αs[:K]-αs_new),ls='None',marker='o',fillstyle='none',ms=2,color=c2,label=r'$|\\alpha^*_i - \\overline{\\alpha}_i|$')\n",
    "ax.plot(np.abs(βs[:K-1]-βs_new[:K-1]),ls='None',marker='s',fillstyle='none',ms=2,color=c5,label=r'$|\\beta^*_i - \\overline{\\beta}_i|$')\n",
    "\n",
    "\n",
    "\n",
    "ax.set_xlabel('index $n$')\n",
    "ax.set_yscale('log')\n",
    "ax.set_ylim([1e-22,1e-5])\n",
    "ax.set_yticks([1e-22,1e-18,1e-14,1e-10,1e-6])\n",
    "\n",
    "\n",
    "plt.savefig('imgs/GOE_backwards_coeff_fe.pdf')"
   ]
  }
 ],
 "metadata": {
  "kernelspec": {
   "display_name": "Python 3",
   "language": "python",
   "name": "python3"
  },
  "language_info": {
   "codemirror_mode": {
    "name": "ipython",
    "version": 3
   },
   "file_extension": ".py",
   "mimetype": "text/x-python",
   "name": "python",
   "nbconvert_exporter": "python",
   "pygments_lexer": "ipython3",
   "version": "3.8.3"
  }
 },
 "nbformat": 4,
 "nbformat_minor": 5
}
