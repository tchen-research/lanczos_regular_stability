{
 "cells": [
  {
   "cell_type": "code",
   "execution_count": 1,
   "id": "a5fdcc0a-5223-4d59-bbf3-2574fe0d6b58",
   "metadata": {},
   "outputs": [],
   "source": [
    "import numpy as np\n",
    "import scipy as sp\n",
    "from scipy import optimize,special,integrate\n",
    "import matplotlib.pyplot as plt\n",
    "from matplotlib.lines import Line2D\n",
    "\n",
    "import copy\n",
    "\n",
    "from lanczos_bin import *\n",
    "\n",
    "from IPython.display import clear_output\n",
    "%load_ext autoreload\n",
    "%autoreload 2"
   ]
  },
  {
   "cell_type": "code",
   "execution_count": 2,
   "id": "37307151-8a79-4b67-806f-df4b0ef066f5",
   "metadata": {},
   "outputs": [
    {
     "data": {
      "image/png": "[encoded data removed]",
      "text/plain": [
       "<Figure size 28.8x5.76 with 1 Axes>"
      ]
     },
     "metadata": {
      "needs_background": "light"
     },
     "output_type": "display_data"
    },
    {
     "data": {
      "image/png": "[encoded data removed]",
      "text/plain": [
       "<Figure size 28.8x5.76 with 1 Axes>"
      ]
     },
     "metadata": {
      "needs_background": "light"
     },
     "output_type": "display_data"
    },
    {
     "data": {
      "image/png": "[encoded data removed]",
      "text/plain": [
       "<Figure size 28.8x5.76 with 1 Axes>"
      ]
     },
     "metadata": {
      "needs_background": "light"
     },
     "output_type": "display_data"
    },
    {
     "data": {
      "image/png": "[encoded data removed]",
      "text/plain": [
       "<Figure size 28.8x5.76 with 1 Axes>"
      ]
     },
     "metadata": {
      "needs_background": "light"
     },
     "output_type": "display_data"
    },
    {
     "data": {
      "image/png": "[encoded data removed]",
      "text/plain": [
       "<Figure size 28.8x5.76 with 1 Axes>"
      ]
     },
     "metadata": {
      "needs_background": "light"
     },
     "output_type": "display_data"
    },
    {
     "data": {
      "image/png": "[encoded data removed]",
      "text/plain": [
       "<Figure size 28.8x5.76 with 1 Axes>"
      ]
     },
     "metadata": {
      "needs_background": "light"
     },
     "output_type": "display_data"
    },
    {
     "data": {
      "image/png": "[encoded data removed]",
      "text/plain": [
       "<Figure size 28.8x5.76 with 1 Axes>"
      ]
     },
     "metadata": {
      "needs_background": "light"
     },
     "output_type": "display_data"
    },
    {
     "data": {
      "image/png": "[encoded data removed]",
      "text/plain": [
       "<Figure size 28.8x5.76 with 1 Axes>"
      ]
     },
     "metadata": {
      "needs_background": "light"
     },
     "output_type": "display_data"
    },
    {
     "data": {
      "image/png": "[encoded data removed]",
      "text/plain": [
       "<Figure size 28.8x5.76 with 1 Axes>"
      ]
     },
     "metadata": {
      "needs_background": "light"
     },
     "output_type": "display_data"
    }
   ],
   "source": [
    "line_styles = {'solid': {'color':c1,'lw':1.3},\n",
    "               'dot': {'color':'k','lw':1,'ls':':'},\n",
    "               'dashdot': {'color':c1,'lw':1.3,'ls':(0, (4, 1.4, 1, 1.4))},\n",
    "               'solid_green': {'color':c2,'lw':1.3},\n",
    "               'solid_red': {'color':c3,'lw':1.3},\n",
    "               'solid_cyan': {'color':c4,'lw':1.3},\n",
    "               'solid_yellow': {'color':c5,'lw':1.3},\n",
    "               'dash_red': {'color':c3,'lw':1.3,'ls':'--'},\n",
    "               'dash_yellow': {'color':c5,'lw':1.3,'ls':'--'},\n",
    "              }\n",
    "\n",
    "for name in line_styles:\n",
    "    fig = plt.figure(figsize=(.4,.08))\n",
    "    ax = fig.add_axes([.1,0,.8,1])\n",
    "    \n",
    "    ax.plot([.05,.2,.35],[.04,.04,.04],**line_styles[name],markevery=[1])\n",
    "    ax.set_xlim(0,.4)\n",
    "    plt.axis('off')\n",
    "\n",
    "    plt.savefig(f'imgs/legend/{name}.pdf')\n"
   ]
  },
  {
   "cell_type": "code",
   "execution_count": 3,
   "id": "fb195786-9e48-4543-b766-95024a0f629b",
   "metadata": {},
   "outputs": [
    {
     "data": {
      "image/png": "[encoded data removed]",
      "text/plain": [
       "<Figure size 14.4x5.76 with 1 Axes>"
      ]
     },
     "metadata": {
      "needs_background": "light"
     },
     "output_type": "display_data"
    },
    {
     "data": {
      "image/png": "[encoded data removed]",
      "text/plain": [
       "<Figure size 14.4x5.76 with 1 Axes>"
      ]
     },
     "metadata": {
      "needs_background": "light"
     },
     "output_type": "display_data"
    },
    {
     "data": {
      "image/png": "[encoded data removed]",
      "text/plain": [
       "<Figure size 14.4x5.76 with 1 Axes>"
      ]
     },
     "metadata": {
      "needs_background": "light"
     },
     "output_type": "display_data"
    },
    {
     "data": {
      "image/png": "[encoded data removed]",
      "text/plain": [
       "<Figure size 14.4x5.76 with 1 Axes>"
      ]
     },
     "metadata": {
      "needs_background": "light"
     },
     "output_type": "display_data"
    },
    {
     "data": {
      "image/png": "[encoded data removed]",
      "text/plain": [
       "<Figure size 14.4x5.76 with 1 Axes>"
      ]
     },
     "metadata": {
      "needs_background": "light"
     },
     "output_type": "display_data"
    },
    {
     "data": {
      "image/png": "[encoded data removed]",
      "text/plain": [
       "<Figure size 14.4x5.76 with 1 Axes>"
      ]
     },
     "metadata": {
      "needs_background": "light"
     },
     "output_type": "display_data"
    },
    {
     "data": {
      "image/png": "[encoded data removed]",
      "text/plain": [
       "<Figure size 14.4x5.76 with 1 Axes>"
      ]
     },
     "metadata": {
      "needs_background": "light"
     },
     "output_type": "display_data"
    }
   ],
   "source": [
    "line_styles = {\n",
    "               'circ': {'color':c1,'ls':'None','marker':'o','ms':2},\n",
    "               'plus_k': {'color':'k','ls':'None','marker':'+','ms':6},\n",
    "               'circ_red': {'color':c3,'ls':'None','marker':'o','ms':2},\n",
    "               'circ_yellow': {'color':c5,'ls':'None','marker':'o','ms':2},\n",
    "               'square_red': {'color':c3,'ls':'None','marker':'s','ms':2},\n",
    "               'square_yellow': {'color':c5,'ls':'None','marker':'s','fillstyle':'none','ms':2},\n",
    "               'circ_green': {'color':c2,'ls':'None','marker':'o','fillstyle':'none','ms':2},\n",
    "              }\n",
    "\n",
    "for name in line_styles:\n",
    "    fig = plt.figure(figsize=(.2,.08))\n",
    "    ax = fig.add_axes([.1,0,.8,1])\n",
    "    \n",
    "    ax.plot([.05,.2,.35],[.04,.04,.04],**line_styles[name],markevery=[1])\n",
    "    ax.set_xlim(0,.4)\n",
    "    plt.axis('off')\n",
    "\n",
    "    plt.savefig(f'imgs/legend/{name}.pdf')\n"
   ]
  },
  {
   "cell_type": "code",
   "execution_count": null,
   "id": "343e8fcb-bf0f-4367-969d-5a1037f381fb",
   "metadata": {},
   "outputs": [],
   "source": []
  }
 ],
 "metadata": {
  "kernelspec": {
   "display_name": "Python 3 (ipykernel)",
   "language": "python",
   "name": "python3"
  },
  "language_info": {
   "codemirror_mode": {
    "name": "ipython",
    "version": 3
   },
   "file_extension": ".py",
   "mimetype": "text/x-python",
   "name": "python",
   "nbconvert_exporter": "python",
   "pygments_lexer": "ipython3",
   "version": "3.8.3"
  }
 },
 "nbformat": 4,
 "nbformat_minor": 5
}
